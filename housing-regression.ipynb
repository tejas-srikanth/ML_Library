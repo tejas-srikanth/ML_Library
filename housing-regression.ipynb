{
 "cells": [
  {
   "cell_type": "code",
   "execution_count": 1,
   "metadata": {},
   "outputs": [],
   "source": [
    "import matplotlib.pyplot as plt\n",
    "import numpy as np\n",
    "from sequential import Linear, MSELoss, Sequential, ReLU, Tanh\n",
    "import pandas as pd\n",
    "\n",
    "df = pd.read_csv('./data/housing.csv')\n",
    "df = df.dropna()\n",
    "df['ocean_proximity'] = df['ocean_proximity'].map({'NEAR BAY': 1, '<1H OCEAN': 2, 'INLAND': 3, 'NEAR OCEAN': 4, 'ISLAND': 5})"
   ]
  },
  {
   "cell_type": "code",
   "execution_count": 2,
   "metadata": {},
   "outputs": [
    {
     "data": {
      "text/plain": [
       "Index(['longitude', 'latitude', 'housing_median_age', 'total_rooms',\n",
       "       'total_bedrooms', 'population', 'households', 'median_income',\n",
       "       'median_house_value', 'ocean_proximity'],\n",
       "      dtype='object')"
      ]
     },
     "execution_count": 2,
     "metadata": {},
     "output_type": "execute_result"
    }
   ],
   "source": [
    "df.columns"
   ]
  },
  {
   "cell_type": "code",
   "execution_count": 3,
   "metadata": {},
   "outputs": [],
   "source": [
    "from sklearn.model_selection import train_test_split\n",
    "\n",
    "X = df.drop('median_house_value', axis=1)\n",
    "y = df['median_house_value']\n",
    "\n",
    "X_train, X_test, y_train, y_test = train_test_split(X, y, test_size=0.2, shuffle=True)\n"
   ]
  },
  {
   "cell_type": "code",
   "execution_count": 4,
   "metadata": {},
   "outputs": [
    {
     "data": {
      "text/plain": [
       "(4087, 9)"
      ]
     },
     "execution_count": 4,
     "metadata": {},
     "output_type": "execute_result"
    }
   ],
   "source": [
    "X_train.shape\n",
    "X_test.shape"
   ]
  },
  {
   "cell_type": "code",
   "execution_count": 5,
   "metadata": {},
   "outputs": [
    {
     "name": "stdout",
     "output_type": "stream",
     "text": [
      "MSE: 5049058735.408446\n",
      "RMSE: 71056.72899457479\n"
     ]
    }
   ],
   "source": [
    "from sklearn.metrics import mean_absolute_error, mean_squared_error, r2_score\n",
    "from sklearn.linear_model import LinearRegression\n",
    "\n",
    "lin_reg = LinearRegression()\n",
    "lin_reg.fit(X_train, y_train)\n",
    "\n",
    "prediction = lin_reg.predict(X_test)\n",
    "\n",
    "mse = mean_squared_error(y_test, prediction)\n",
    "\n",
    "print(f'MSE: {mse}')\n",
    "print(f'RMSE: {mse ** 0.5}')"
   ]
  },
  {
   "cell_type": "code",
   "execution_count": 6,
   "metadata": {},
   "outputs": [
    {
     "name": "stdout",
     "output_type": "stream",
     "text": [
      "MSE: 5682366838.063766\n",
      "RMSE: 75381.47543039845\n"
     ]
    }
   ],
   "source": [
    "from sequential import LinearRegression, MSELoss\n",
    "\n",
    "lin_reg2 = LinearRegression()\n",
    "\n",
    "lin_reg2.fit(np.array(X_train), y_train)\n",
    "prediction2 = lin_reg2.predict(X_test)\n",
    "\n",
    "mse2 = mean_squared_error(y_test, prediction2)\n",
    "\n",
    "print(f'MSE: {mse2}')\n",
    "print(f'RMSE: {mse2 ** 0.5}')"
   ]
  },
  {
   "cell_type": "code",
   "execution_count": 7,
   "metadata": {},
   "outputs": [
    {
     "data": {
      "text/plain": [
       "(16346, 9)"
      ]
     },
     "execution_count": 7,
     "metadata": {},
     "output_type": "execute_result"
    }
   ],
   "source": [
    "X_train.shape"
   ]
  },
  {
   "cell_type": "code",
   "execution_count": 11,
   "metadata": {},
   "outputs": [
    {
     "name": "stdout",
     "output_type": "stream",
     "text": [
      "[-2.28975284e+10 -2.20601767e+10 -2.66062473e+10 ... -1.26922842e+10\n",
      " -1.45238807e+09 -2.72734958e+10]\n"
     ]
    }
   ],
   "source": [
    "print(prediction2)"
   ]
  },
  {
   "cell_type": "code",
   "execution_count": 8,
   "metadata": {},
   "outputs": [
    {
     "name": "stdout",
     "output_type": "stream",
     "text": [
      "EPOCH: 1, RMSE loss: [118211.2668429]\n"
     ]
    },
    {
     "name": "stderr",
     "output_type": "stream",
     "text": [
      "c:\\Users\\tejas\\ML_Library\\env\\Lib\\site-packages\\numpy\\core\\fromnumeric.py:59: FutureWarning: 'DataFrame.swapaxes' is deprecated and will be removed in a future version. Please use 'DataFrame.transpose' instead.\n",
      "  return bound(*args, **kwds)\n"
     ]
    },
    {
     "name": "stdout",
     "output_type": "stream",
     "text": [
      "EPOCH: 11, RMSE loss: [128782.23670901]\n",
      "EPOCH: 21, RMSE loss: [118327.10588643]\n",
      "EPOCH: 31, RMSE loss: [114654.24488019]\n",
      "EPOCH: 41, RMSE loss: [119476.38069488]\n",
      "EPOCH: 51, RMSE loss: [112736.81312161]\n",
      "EPOCH: 61, RMSE loss: [111670.58248349]\n",
      "EPOCH: 71, RMSE loss: [128995.128582]\n",
      "EPOCH: 81, RMSE loss: [122760.70350266]\n",
      "EPOCH: 91, RMSE loss: [112437.29169668]\n",
      "EPOCH: 101, RMSE loss: [131245.42094751]\n",
      "EPOCH: 111, RMSE loss: [122482.53614563]\n",
      "EPOCH: 121, RMSE loss: [96527.53359769]\n",
      "EPOCH: 131, RMSE loss: [105643.27612438]\n",
      "EPOCH: 141, RMSE loss: [124740.26872725]\n",
      "EPOCH: 151, RMSE loss: [122956.79472464]\n",
      "EPOCH: 161, RMSE loss: [118425.94597479]\n",
      "EPOCH: 171, RMSE loss: [124342.34464058]\n",
      "EPOCH: 181, RMSE loss: [118146.56264051]\n",
      "EPOCH: 191, RMSE loss: [123543.35914804]\n",
      "EPOCH: 201, RMSE loss: [118379.16721317]\n",
      "EPOCH: 211, RMSE loss: [115083.26376211]\n",
      "EPOCH: 221, RMSE loss: [115482.467737]\n",
      "EPOCH: 231, RMSE loss: [111917.03253244]\n",
      "EPOCH: 241, RMSE loss: [106470.06308498]\n",
      "EPOCH: 251, RMSE loss: [123488.79403967]\n",
      "EPOCH: 261, RMSE loss: [159821.59611571]\n",
      "EPOCH: 271, RMSE loss: [115361.33897814]\n",
      "EPOCH: 281, RMSE loss: [121103.25444773]\n",
      "EPOCH: 291, RMSE loss: [116477.05885631]\n"
     ]
    }
   ],
   "source": [
    "from sequential import Linear, MSELoss, Sequential, ReLU, Tanh\n",
    "\n",
    "model = Sequential([Linear(9, 128, zero_init=True), ReLU(), Linear(128, 64, zero_init=True), ReLU(),  Linear(64, 64, zero_init=True), ReLU(), Linear(64, 1, zero_init=True)], MSELoss())\n",
    "\n",
    "X_train_batches = np.split(X_train[:16200], 200)\n",
    "y_train_batches = np.split(np.array(y_train[:16200]), 200)\n",
    "num_batches = len(X_train_batches)\n",
    "losses = []\n",
    "losses_test = []\n",
    "\n",
    "for i in range(300):\n",
    "    for j in range(50):\n",
    "        n = np.random.randint(num_batches)\n",
    "        curr_batch = X_train_batches[n].T\n",
    "        y_pred = model.forward(curr_batch)\n",
    "        loss = model.loss.forward(y_train_batches[n], y_pred)\n",
    "        delta = model.loss.backward()\n",
    "        model.backward(delta)\n",
    "        model.sgd_step(0.01)\n",
    "    \n",
    "    if (i % 10 == 0):\n",
    "        print(f'EPOCH: {i+1}, RMSE loss: {loss ** 0.5}')\n",
    "        prediction = model.forward(X_test.T)\n",
    "        loss_test = mean_squared_error(y_test, prediction.reshape(-1,))\n",
    "        losses_test.append(loss_test)\n",
    "        losses.append(loss[0])"
   ]
  },
  {
   "cell_type": "code",
   "execution_count": 9,
   "metadata": {},
   "outputs": [
    {
     "data": {
      "image/png": "[encoded data removed]",
      "text/plain": [
       "<Figure size 640x480 with 1 Axes>"
      ]
     },
     "metadata": {},
     "output_type": "display_data"
    }
   ],
   "source": [
    "plt.plot(losses_test[1:])\n",
    "plt.plot(losses[1:])\n",
    "plt.show()"
   ]
  },
  {
   "cell_type": "code",
   "execution_count": 10,
   "metadata": {},
   "outputs": [
    {
     "data": {
      "text/plain": [
       "array([109381.70972199])"
      ]
     },
     "execution_count": 10,
     "metadata": {},
     "output_type": "execute_result"
    }
   ],
   "source": [
    "loss ** 0.5"
   ]
  },
  {
   "cell_type": "code",
   "execution_count": null,
   "metadata": {},
   "outputs": [],
   "source": []
  }
 ],
 "metadata": {
  "kernelspec": {
   "display_name": "env",
   "language": "python",
   "name": "python3"
  },
  "language_info": {
   "codemirror_mode": {
    "name": "ipython",
    "version": 3
   },
   "file_extension": ".py",
   "mimetype": "text/x-python",
   "name": "python",
   "nbconvert_exporter": "python",
   "pygments_lexer": "ipython3",
   "version": "3.12.3"
  }
 },
 "nbformat": 4,
 "nbformat_minor": 2
}
